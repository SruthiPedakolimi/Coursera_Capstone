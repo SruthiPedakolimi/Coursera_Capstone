{
    "nbformat_minor": 1, 
    "cells": [
        {
            "source": "# Capstone Project\nThis project is mainly for the Capston Project", 
            "cell_type": "markdown", 
            "metadata": {
                "collapsed": true
            }
        }, 
        {
            "execution_count": 1, 
            "cell_type": "code", 
            "metadata": {}, 
            "outputs": [], 
            "source": "#importing necessary packages\nfrom bs4 import BeautifulSoup\nimport requests\nimport lxml.html as lh\nimport pandas as pd\nimport numpy as np\n\n#Web Scrappping with Beautiful Soup\npage_link='https://en.wikipedia.org/wiki/List_of_postal_codes_of_Canada:_M'\npage=requests.get(page_link)\nsoup = BeautifulSoup(page.content, 'html.parser')\ntable_soup = soup.find_all('table')[0] \ntable = pd.read_html(str(table_soup))\n\n#Creating the table dataframe \ndata_frame=pd.DataFrame(table[0])\ndata_frame.columns=['Postcode','Borough','Neighbourhood']\ndata_frame=data_frame.drop(0).reset_index(drop=True)"
        }, 
        {
            "execution_count": 3, 
            "cell_type": "code", 
            "metadata": {}, 
            "outputs": [], 
            "source": "#Deleting the Not Assigned in the Borough Rows\ndata_frame['Borough']=data_frame['Borough'].replace(to_replace='Not assigned' , value=np.nan)\ndata_frame = data_frame[pd.notnull(data_frame['Borough'])].reset_index(drop=True)"
        }, 
        {
            "execution_count": 4, 
            "cell_type": "code", 
            "metadata": {}, 
            "outputs": [], 
            "source": "#\npostal={}\nfor index,row in data_frame.iterrows():\n    row=dict(row)\n    if row['Postcode'] in postal:\n        \n        postal[row['Postcode']]['Neighbourhood']=postal[row['Postcode']]['Neighbourhood']+', '+row['Neighbourhood']\n        \n    else:\n        if row['Neighbourhood']=='Not assigned':\n            row['Neighbourhood']=row['Borough']\n        postal[row['Postcode']]=row \n"
        }, 
        {
            "execution_count": 5, 
            "cell_type": "code", 
            "metadata": {}, 
            "outputs": [], 
            "source": ""
        }, 
        {
            "execution_count": 6, 
            "cell_type": "code", 
            "metadata": {}, 
            "outputs": [], 
            "source": "df1=pd.DataFrame(postal).transpose()"
        }, 
        {
            "execution_count": 7, 
            "cell_type": "code", 
            "metadata": {}, 
            "outputs": [], 
            "source": "df1.set_index('Postcode',inplace=True)\ndf1=df1.reset_index(drop=False)"
        }, 
        {
            "execution_count": 8, 
            "cell_type": "code", 
            "metadata": {}, 
            "outputs": [
                {
                    "execution_count": 8, 
                    "metadata": {}, 
                    "data": {
                        "text/plain": "103"
                    }, 
                    "output_type": "execute_result"
                }
            ], 
            "source": "df1.shape[0]"
        }, 
        {
            "execution_count": null, 
            "cell_type": "code", 
            "metadata": {}, 
            "outputs": [], 
            "source": ""
        }
    ], 
    "metadata": {
        "kernelspec": {
            "display_name": "Python 3.5", 
            "name": "python3", 
            "language": "python"
        }, 
        "language_info": {
            "mimetype": "text/x-python", 
            "nbconvert_exporter": "python", 
            "version": "3.5.5", 
            "name": "python", 
            "file_extension": ".py", 
            "pygments_lexer": "ipython3", 
            "codemirror_mode": {
                "version": 3, 
                "name": "ipython"
            }
        }
    }, 
    "nbformat": 4
}