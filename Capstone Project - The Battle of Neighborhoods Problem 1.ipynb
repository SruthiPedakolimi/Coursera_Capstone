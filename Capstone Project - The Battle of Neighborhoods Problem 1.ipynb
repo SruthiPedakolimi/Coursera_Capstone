{
    "nbformat_minor": 1, 
    "cells": [
        {
            "source": "# The Battle of Neighbourhood", 
            "cell_type": "markdown", 
            "metadata": {
                "collapsed": true
            }
        }, 
        {
            "source": "### Business Problem", 
            "cell_type": "markdown", 
            "metadata": {}
        }, 
        {
            "source": "#### \"Which locality of all the cities in United States would be the best place to start a Gaming Arcade?\"", 
            "cell_type": "markdown", 
            "metadata": {}
        }, 
        {
            "source": "My boss Sundar is interested in starting a gaming arcade in the best locality of all the cities in United states. He defines a best locatlity based on the following constraints,\n\nPopulation density of a locality <br>\nPer Capital income<br>\nPopulation of each location<br>\nVenues in each locality<br>\n\n__The category of the venues that he's interested in are__<br>\nArts and Entertainment<br>\nShops & Service<br>\nCollege and University<br>\nEvent<br>\nFood<br>\nNightife Spot<br>\nOutdoors & Recreation<br>\nProfessional & Other places<br>\nResidence<br>\nTravel & Transport<br>", 
            "cell_type": "markdown", 
            "metadata": {}
        }, 
        {
            "execution_count": null, 
            "cell_type": "code", 
            "metadata": {}, 
            "outputs": [], 
            "source": ""
        }
    ], 
    "metadata": {
        "kernelspec": {
            "display_name": "Python 3.5", 
            "name": "python3", 
            "language": "python"
        }, 
        "language_info": {
            "mimetype": "text/x-python", 
            "nbconvert_exporter": "python", 
            "version": "3.5.5", 
            "name": "python", 
            "file_extension": ".py", 
            "pygments_lexer": "ipython3", 
            "codemirror_mode": {
                "version": 3, 
                "name": "ipython"
            }
        }
    }, 
    "nbformat": 4
}