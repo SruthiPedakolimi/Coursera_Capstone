{
    "nbformat_minor": 1, 
    "cells": [
        {
            "source": "## Business Problem", 
            "cell_type": "markdown", 
            "metadata": {}
        }, 
        {
            "source": "#### \"Which locality of all the cities in United States would be the best place to start a Gaming Arcade?\"", 
            "cell_type": "markdown", 
            "metadata": {
                "collapsed": true
            }
        }, 
        {
            "source": "__My boss Sundar is interested in starting a gaming arcade in the best locality of all the cities in United states. He defines a best locatlity based on the following constraints,__\n\n-  Population density of a locality <br>\n-  Per Capital income<br>\n-  Population of each location<br>\n-  Venues in each locality<br>\n\n__The category of the venues that he's interested in are__<br>\n-  Arts and Entertainment<br>\n-  Shops & Service<br>\n-  College and University<br>\n-  Event<br>\n-  Food<br>\n-  Nightife Spot<br>\n-  Outdoors & Recreation<br>\n-  Professional & Other places<br>\n-  Residence<br>\n-  Travel & Transport<br>", 
            "cell_type": "markdown", 
            "metadata": {}
        }, 
        {
            "source": "## Data and Data Sources", 
            "cell_type": "markdown", 
            "metadata": {}
        }, 
        {
            "source": "-  __List of all cities in United States with population density and coordinates__<br>\n    https://en.wikipedia.org/wiki/List_of_United_States_cities_by_population\n    <br>\n    \n-  __Using the FourSquare API to get the following details__<br>\n    List of all venues in each city<br>\n    List of all venues in each locality in the selected city", 
            "cell_type": "markdown", 
            "metadata": {}
        }, 
        {
            "source": "Using the above data we will first select best city to proceed with based on the values like Population density, per capita income of the state, number of venues (as we are giving weights to each venue based on its category).\n\nOnce we select a city, we then go for Localities. Again, we do it using the same approach i.e. based on the scores of venues in each locality. Once", 
            "cell_type": "markdown", 
            "metadata": {}
        }, 
        {
            "source": "## Tools we need", 
            "cell_type": "markdown", 
            "metadata": {}
        }, 
        {
            "source": "-  Foursquare API\n-  IBM Watson Account\n-  Jupiter Notebooks", 
            "cell_type": "markdown", 
            "metadata": {}
        }, 
        {
            "source": "## Methodology section", 
            "cell_type": "markdown", 
            "metadata": {}
        }, 
        {
            "source": "-  The Wikipedia page https://en.wikipedia.org/wiki/List_of_United_States_cities_by_population was scrapped using the BeautifulSoup library to build a pandas dataframe listing the city,state,land area,population density and location . The dataframe was cleaned and processed appropriate\n-  The Foursquare API was then used to query each of the city to get {venue names,venue category,venue latitude and longitude} within the given radius . The resulting locations for each venue were tabulated and stored in a new dataframe and visualised using Folium.\n-  The city which has more weightage was selected and then the Foursquare API was then used to get the venues of that city for a given radius\n-  The KMeans Algorithm is used for clustering clustering was applied to the selected categories latitudes and longitudes and calculated the weightage for each cluster\n-  Then the cluster centroid which has more weightage is selected for the clients gaming arcade", 
            "cell_type": "markdown", 
            "metadata": {}
        }, 
        {
            "source": "## Results", 
            "cell_type": "markdown", 
            "metadata": {}
        }, 
        {
            "source": "![Image of Result](https://github.com/SruthiPedakolimi/Coursera_Capstone/blob/master/Screen%20Shot%202019-01-05%20at%208.14.02%20PM.png?raw=true)", 
            "cell_type": "markdown", 
            "metadata": {}
        }, 
        {
            "source": "## Improvements/Recommendations", 
            "cell_type": "markdown", 
            "metadata": {}
        }, 
        {
            "source": "The Following analysis can be improved with the following extensions\n-  Here we can consider few more categories. For example Schools,Universities whcih is also a good source for customers \n-  We can also select multiple locations based on the localities and neighbourhoods to improve the accuracy of the score\n-  We can extend the area by increasing the radius and the limit value so that we can cover more venues\n", 
            "cell_type": "markdown", 
            "metadata": {}
        }, 
        {
            "source": "## Conclusion", 
            "cell_type": "markdown", 
            "metadata": {}
        }, 
        {
            "source": "Based on the selected categories, an arcade can be set up in a red colour place that was spotted on the map to get more number of customers and huge profits\n", 
            "cell_type": "markdown", 
            "metadata": {}
        }, 
        {
            "execution_count": null, 
            "cell_type": "code", 
            "metadata": {}, 
            "outputs": [], 
            "source": ""
        }
    ], 
    "metadata": {
        "kernelspec": {
            "display_name": "Python 3.5", 
            "name": "python3", 
            "language": "python"
        }, 
        "language_info": {
            "mimetype": "text/x-python", 
            "nbconvert_exporter": "python", 
            "version": "3.5.5", 
            "name": "python", 
            "file_extension": ".py", 
            "pygments_lexer": "ipython3", 
            "codemirror_mode": {
                "version": 3, 
                "name": "ipython"
            }
        }
    }, 
    "nbformat": 4
}