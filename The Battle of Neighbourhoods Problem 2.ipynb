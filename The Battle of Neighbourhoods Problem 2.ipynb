{
    "nbformat_minor": 1, 
    "cells": [
        {
            "source": "## Data", 
            "cell_type": "markdown", 
            "metadata": {
                "collapsed": true
            }
        }, 
        {
            "source": "-  __List of all cities in United States with population density and coordinates__<br>\n    https://en.wikipedia.org/wiki/List_of_United_States_cities_by_population\n    <br>\n    \n-  __List of Countries with per capita income__<br>\n    https://en.wikipedia.org/wiki/List_of_United_States_counties_by_per_capita_income\n    <br>\n    \n-  __Using the FourSquare API to get the following details__<br>\n    List of all venues in each city<br>\n    List of all venues in each locality in the selected city", 
            "cell_type": "markdown", 
            "metadata": {}
        }, 
        {
            "source": "Based on the details mentioned above we will select a city and locality in that city. \nIn that locality we will ", 
            "cell_type": "markdown", 
            "metadata": {}
        }
    ], 
    "metadata": {
        "kernelspec": {
            "display_name": "Python 3.5", 
            "name": "python3", 
            "language": "python"
        }, 
        "language_info": {
            "mimetype": "text/x-python", 
            "nbconvert_exporter": "python", 
            "version": "3.5.5", 
            "name": "python", 
            "file_extension": ".py", 
            "pygments_lexer": "ipython3", 
            "codemirror_mode": {
                "version": 3, 
                "name": "ipython"
            }
        }
    }, 
    "nbformat": 4
}